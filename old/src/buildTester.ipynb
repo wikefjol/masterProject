{
 "cells": [
  {
   "cell_type": "code",
   "execution_count": 10,
   "metadata": {},
   "outputs": [
    {
     "name": "stdout",
     "output_type": "stream",
     "text": [
      "Original sequence   : GAAAGATAGTCCTTAATGGACGTGCCAGTTGACGCAAGAGGCCATAACGTGGTGCGACGGGGAC\n",
      "base        (run  1): GAAGATAGTCCTTAATGGACGTGCCAGTTGACGCAAGTGGCCATAACGTGGTGCGACGGGGAC\n",
      "base        (run  2): GAAAGATAGTCCTTAATGGACGTGCCATGTGACGCAAGAGGCCACTACGTGGTGCACGGGGAC\n",
      "base        (run  3): GAAAGATAGTCCTTAATGGACGTGCCAGTTGACGCAAGAGGCCATAACGTGGTGCGACGGGGAC\n",
      "base        (run  4): GAAAGATAGTCCCTTAATGGAACGTGCCAGTTAGCGCAAGAGGCCATAACGAGGTTGGACGGGGAC\n",
      "base        (run  5): GAAAGCTAGTCCTAATGGACGTGCCAGTTGACGCTTAGGGCCATAACGTGGTGCGACGGGAC\n",
      "base        (run  6): GAAAGATAGTACCTTATGGACGTGCCAGTTGACGCAAGAGGCCATAACGTGGTGCGACGGGGC\n",
      "base        (run  7): GAAAGATAGTCCTATATGGAGGTGCCAGTTGACGCAAGAGGCCATAACGTGGTGAGACGGGGAGC\n",
      "base        (run  8): GAAAGATAGTCCTTAATGAGCGTGCCAGTTGACGCAAGGAGGCCATAACGTGGTGCGACGGGGAC\n",
      "base        (run  9): GAAAGATAGTCCTTAATGGACGTGCCAGTTGACCAAGAGGCCATAACGTGGTGCGACGGGGAC\n",
      "base        (run 10): GAAAGATAGTCCTTAATGGACGTGCCAGTTGACGACAGAGGCCATAACGTGGTGCGACGGGAAC\n",
      "Original sequence   : GAAAGATAGTCCTTAATGGACGTGCCAGTTGACGCAAGAGGCCATAACGTGGTGCGACGGGGAC\n",
      "nothing     (run  1): GAAAGATAGTCCTTAATGGACGTGCCAGTTGACGCAAGAGGCCATAACGTGGTGCGACGGGGAC\n",
      "nothing     (run  2): GAAAGATAGTCCTTAATGGACGTGCCAGTTGACGCAAGAGGCCATAACGTGGTGCGACGGGGAC\n",
      "nothing     (run  3): GAAAGATAGTCCTTAATGGACGTGCCAGTTGACGCAAGAGGCCATAACGTGGTGCGACGGGGAC\n",
      "nothing     (run  4): GAAAGATAGTCCTTAATGGACGTGCCAGTTGACGCAAGAGGCCATAACGTGGTGCGACGGGGAC\n",
      "nothing     (run  5): GAAAGATAGTCCTTAATGGACGTGCCAGTTGACGCAAGAGGCCATAACGTGGTGCGACGGGGAC\n",
      "nothing     (run  6): GAAAGATAGTCCTTAATGGACGTGCCAGTTGACGCAAGAGGCCATAACGTGGTGCGACGGGGAC\n",
      "nothing     (run  7): GAAAGATAGTCCTTAATGGACGTGCCAGTTGACGCAAGAGGCCATAACGTGGTGCGACGGGGAC\n",
      "nothing     (run  8): GAAAGATAGTCCTTAATGGACGTGCCAGTTGACGCAAGAGGCCATAACGTGGTGCGACGGGGAC\n",
      "nothing     (run  9): GAAAGATAGTCCTTAATGGACGTGCCAGTTGACGCAAGAGGCCATAACGTGGTGCGACGGGGAC\n",
      "nothing     (run 10): GAAAGATAGTCCTTAATGGACGTGCCAGTTGACGCAAGAGGCCATAACGTGGTGCGACGGGGAC\n",
      "Original sequence   : GAAAGATAGTCCTTAATGGACGTGCCAGTTGACGCAAGAGGCCATAACGTGGTGCGACGGGGAC\n",
      "Error: Augmentation strategy banana is not valid. Select from ['base', 'nothing'].\n",
      "Error: Augmentation strategy banana is not valid. Select from ['base', 'nothing'].\n",
      "Error: Augmentation strategy banana is not valid. Select from ['base', 'nothing'].\n",
      "Error: Augmentation strategy banana is not valid. Select from ['base', 'nothing'].\n",
      "Error: Augmentation strategy banana is not valid. Select from ['base', 'nothing'].\n",
      "Error: Augmentation strategy banana is not valid. Select from ['base', 'nothing'].\n",
      "Error: Augmentation strategy banana is not valid. Select from ['base', 'nothing'].\n",
      "Error: Augmentation strategy banana is not valid. Select from ['base', 'nothing'].\n",
      "Error: Augmentation strategy banana is not valid. Select from ['base', 'nothing'].\n",
      "Error: Augmentation strategy banana is not valid. Select from ['base', 'nothing'].\n"
     ]
    }
   ],
   "source": [
    "from src import Augmentor\n",
    "import json\n",
    "\n",
    "def test_strategy(augmentor: Augmentor, testSeq: str, strategy: str, num_runs: int = 10) -> None:\n",
    "    print(f\"{'Original sequence':<20}: {testSeq}\")\n",
    "    \n",
    "    for i in range(1, num_runs + 1):\n",
    "        try:\n",
    "            augmented_seq = augmentor.augmentSequence(testSeq, strategy)\n",
    "            # Format with constant width for strategy and run number\n",
    "            print(f\"{strategy:<11} (run {i:>2}): {augmented_seq}\")\n",
    "        except ValueError as e:\n",
    "            print(f\"Error: {e}\")\n",
    "\n",
    "# Load config\n",
    "CONFIG_PATH : str = 'scenarios/Scenario 1/config_001.json'\n",
    "with open(CONFIG_PATH, 'r') as f:\n",
    "    config = json.load(f)\n",
    "\n",
    "# initialize Augmentor & define test sequence and strategies to test\n",
    "augmentor = Augmentor(config)\n",
    "testSeq : str  ='GAAAGATAGTCCTTAATGGACGTGCCAGTTGACGCAAGAGGCCATAACGTGGTGCGACGGGGAC'\n",
    "strategies : list[str] = ['base', 'nothing','banana']\n",
    "\n",
    "\n",
    "for strategy in strategies:\n",
    "   test_strategy(augmentor, testSeq, strategy, num_runs = 10)"
   ]
  }
 ],
 "metadata": {
  "kernelspec": {
   "display_name": "bert_tutorial_env",
   "language": "python",
   "name": "bert_tutorial_env"
  },
  "language_info": {
   "codemirror_mode": {
    "name": "ipython",
    "version": 3
   },
   "file_extension": ".py",
   "mimetype": "text/x-python",
   "name": "python",
   "nbconvert_exporter": "python",
   "pygments_lexer": "ipython3",
   "version": "3.11.5"
  }
 },
 "nbformat": 4,
 "nbformat_minor": 2
}
